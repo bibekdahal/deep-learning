{
 "cells": [
  {
   "cell_type": "markdown",
   "metadata": {},
   "source": [
    "# Sentiment Analysis: Using Recurrent Neural Networks\n",
    "\n",
    "Sentiment Analysis is a form of text classification where we take a text as input and assign a label to it. In this particular application, we want to take a *movie review* as input and analyze the *author's emotion* in that review. More specifically, we want to classify the review as being either **positive** or **negative**.\n",
    "\n",
    "We will be using *Neural Networks* to build our Sentiment Analysis system. To train our neural network, we will use the [Stanford’s Movies Review Dataset](https://ai.stanford.edu/~amaas/data/sentiment/), which contains *25000* training dataset and *25000* test dataset.\n",
    "\n",
    "This application is a type of Natural Language Processing. **Recurrent Neural Networks** are considered to handle such applications quite well. Note that NLP would be similar to image processing, if it was not for a few differences between text and images. Text inputs are often of variable length (unlike images which can be resized) and the important words can appear anywhere in a sentence. It is quite difficult to build a Neural Network to handle all types of sentences as input in a generic way. RNNs solve this issue by taking one word at a time and trying to remember the important information along the way. Its output at any time is then based on current input and whatever important information it has memorized along the way. **Long Short-Term Memory RNN** is a type of RNN where multiple LSTM cells are used, each capable of memorizing different type of information for some time. Details on LSTM RNN have already been discussed in class lectures.\n",
    "\n",
    "In the following code, we will use LSTM RNN to build a system capable of sentiment analysis on movie reviews.\n"
   ]
  },
  {
   "cell_type": "markdown",
   "metadata": {},
   "source": [
    "## 0. Preparation\n",
    "\n",
    "Let's start by importing some useful libraries."
   ]
  },
  {
   "cell_type": "code",
   "execution_count": 26,
   "metadata": {},
   "outputs": [],
   "source": [
    "# Some python modules:\n",
    "import time\n",
    "import collections\n",
    "import os\n",
    "import random\n",
    "import tarfile\n",
    "\n",
    "# PyTorch modules:\n",
    "import torch\n",
    "from torch import nn\n",
    "import torchtext.vocab as Vocab\n",
    "import torch.utils.data as Data"
   ]
  },
  {
   "cell_type": "markdown",
   "metadata": {},
   "source": [
    "We want to use GPU for computations if CUDA is available."
   ]
  },
  {
   "cell_type": "code",
   "execution_count": 27,
   "metadata": {},
   "outputs": [
    {
     "name": "stdout",
     "output_type": "stream",
     "text": [
      "1.2.0.dev20190805 cuda\n"
     ]
    }
   ],
   "source": [
    "device = torch.device('cuda' if torch.cuda.is_available() else 'cpu')\n",
    "print(torch.__version__, device)"
   ]
  },
  {
   "cell_type": "markdown",
   "metadata": {},
   "source": [
    "## 1. Data Loader"
   ]
  },
  {
   "cell_type": "markdown",
   "metadata": {},
   "source": [
    "### 1.1 Dataset\n",
    "\n",
    "As mentioned above, we will be using the Stanford's Movies Review Dataset. The dataset is originally compressed to a `.tar.gz` file. We will check if the dataset has already been uncompressed, and if not, uncompress it before we can load it."
   ]
  },
  {
   "cell_type": "code",
   "execution_count": 28,
   "metadata": {},
   "outputs": [],
   "source": [
    "# Path that contains all our data:\n",
    "DATA_ROOT = 'dataset'\n",
    "# Path that should contain the uncompressed dataset.\n",
    "DATASET_PATH = os.path.join(DATA_ROOT, 'aclImdb')\n",
    "\n",
    "# Let's uncompress the dataset if the uncompressed folder is not present.\n",
    "if not os.path.exists(DATASET_PATH):\n",
    "    print('Uncompressing dataset...')\n",
    "    fname = os.path.join(DATA_ROOT, 'aclImdb_v1.tar.gz')\n",
    "    with tarfile.open(fname, 'r') as f:\n",
    "        f.extractall(DATA_ROOT)\n",
    "    print('Done')"
   ]
  },
  {
   "cell_type": "markdown",
   "metadata": {},
   "source": [
    "The organization of the dataset is as follows:\n",
    "\n",
    "- There are two folders: `train` for training and `test` for testing, each containing 25K data samples.\n",
    "- Inside each, there are two subfolders: `pos` for positive reviews and `neg` for negative reviews, each containing equal number of samples.\n",
    "\n",
    "Let's create a function to load the dataset."
   ]
  },
  {
   "cell_type": "code",
   "execution_count": 29,
   "metadata": {},
   "outputs": [],
   "source": [
    "# tqdm to show a nice progress bar.\n",
    "from tqdm import tqdm\n",
    "\n",
    "# Load either the training or the test dataset.\n",
    "def read_imdb(folder='train'):\n",
    "    # Collect the data samples in a list.\n",
    "    data = []\n",
    "    \n",
    "    # Collect both the positive and the negative samples.\n",
    "    for label in ['pos', 'neg']:\n",
    "        # E.g.: positive training samples are in path: `aclImdb/train/pos`.\n",
    "        folder_name = os.path.join(DATASET_PATH, folder, label)\n",
    "        \n",
    "        # Open each file in this folder and read in the review text.\n",
    "        print('Reading samples from: ', folder_name, flush=True)\n",
    "        for file in tqdm(os.listdir(folder_name)):\n",
    "            \n",
    "            with open(os.path.join(folder_name, file), 'rb') as f:\n",
    "                # Each review is a unicode text. We will also remove new lines from the reviews.\n",
    "                review = f.read().decode('utf-8').replace('\\n', '')\n",
    "                \n",
    "                # Data samples are collected as tuples: (review, label)\n",
    "                # where label = 1 for positive and 0 for negative.\n",
    "                data.append((review, 1 if label == 'pos' else 0))\n",
    "                \n",
    "    # Before returning, shuffle all the positive and negative samples.\n",
    "    random.shuffle(data)\n",
    "    return data"
   ]
  },
  {
   "cell_type": "markdown",
   "metadata": {},
   "source": [
    "Let's read both the training and the test samples."
   ]
  },
  {
   "cell_type": "code",
   "execution_count": 30,
   "metadata": {},
   "outputs": [
    {
     "name": "stdout",
     "output_type": "stream",
     "text": [
      "Reading samples from:  dataset/aclImdb/train/pos\n"
     ]
    },
    {
     "name": "stderr",
     "output_type": "stream",
     "text": [
      "100%|██████████| 12500/12500 [00:00<00:00, 44850.92it/s]"
     ]
    },
    {
     "name": "stdout",
     "output_type": "stream",
     "text": [
      "Reading samples from:  dataset/aclImdb/train/neg\n"
     ]
    },
    {
     "name": "stderr",
     "output_type": "stream",
     "text": [
      "\n",
      "100%|██████████| 12500/12500 [00:00<00:00, 44201.86it/s]\n"
     ]
    },
    {
     "name": "stdout",
     "output_type": "stream",
     "text": [
      "Reading samples from:  dataset/aclImdb/test/pos\n"
     ]
    },
    {
     "name": "stderr",
     "output_type": "stream",
     "text": [
      "100%|██████████| 12500/12500 [00:00<00:00, 38439.31it/s]"
     ]
    },
    {
     "name": "stdout",
     "output_type": "stream",
     "text": [
      "Reading samples from:  dataset/aclImdb/test/neg\n"
     ]
    },
    {
     "name": "stderr",
     "output_type": "stream",
     "text": [
      "\n",
      "100%|██████████| 12500/12500 [00:00<00:00, 40234.58it/s]\n"
     ]
    }
   ],
   "source": [
    "train_data = read_imdb('train')\n",
    "test_data = read_imdb('test')"
   ]
  },
  {
   "cell_type": "markdown",
   "metadata": {},
   "source": [
    "Let's see some training samples."
   ]
  },
  {
   "cell_type": "code",
   "execution_count": 31,
   "metadata": {},
   "outputs": [
    {
     "name": "stdout",
     "output_type": "stream",
     "text": [
      "Review:  I had recently been watching Johnny Test in an attempt to fi ... Label: 0\n",
      "Review:  The most embarrassing moment in this film is when Brady Corb ... Label: 0\n",
      "Review:  First let me preface this post by saying that I am a fan of  ... Label: 0\n",
      "Review:  The Second Renaissance, part 1 let's us show how the machine ... Label: 0\n",
      "Review:  This film is exactly what its title describes--an attempt to ... Label: 1\n"
     ]
    }
   ],
   "source": [
    "for x, y in train_data[:5]:\n",
    "    print('Review: ', x[0:60], '...', 'Label:', y)"
   ]
  },
  {
   "cell_type": "markdown",
   "metadata": {},
   "source": [
    "### 1.2 Tokenization\n",
    "\n",
    "As with all machine learning systems, instead of raw data, we need features to feed into our system. The smallest useful unit in a text such as movie review is the word. So, we will tokenize the text data that we have into sequences of words. For our purpose, we will use a simple split by whitespace technique for tokenization."
   ]
  },
  {
   "cell_type": "code",
   "execution_count": 32,
   "metadata": {},
   "outputs": [],
   "source": [
    "# Make sure everything is lowercase and split by whitespace.\n",
    "def tokenizer(text):\n",
    "    return [tok.lower() for tok in text.split()]\n",
    "\n",
    "\n",
    "# A function to tokenize all review samples in our dataset.\n",
    "def get_tokenized_imdb(data):\n",
    "    return [tokenizer(review) for review, _ in data]"
   ]
  },
  {
   "cell_type": "markdown",
   "metadata": {},
   "source": [
    "### 1.3 Vocabulary\n",
    "\n",
    "A vocabulary is a set of all words present in our training dataset. Instead of just storing the presence of words in a set, we can further store the count of each word in the training set in a hashmap, which we can do with the help of Python's `Counter` class."
   ]
  },
  {
   "cell_type": "code",
   "execution_count": 33,
   "metadata": {},
   "outputs": [
    {
     "name": "stdout",
     "output_type": "stream",
     "text": [
      "Number of words in vocabulary: 46159\n"
     ]
    }
   ],
   "source": [
    "def get_vocab_imdb(data):\n",
    "    # First tokenize the review.\n",
    "    tokenized_data = get_tokenized_imdb(data)\n",
    "    # Then collect each token in a Counter hashmap to build a vocabulary.\n",
    "    counter = collections.Counter([tk for st in tokenized_data for tk in st])\n",
    "    \n",
    "    # PyTorch Vocab class will be used to represent our vocabulary.\n",
    "    return Vocab.Vocab(counter, min_freq=5)\n",
    "\n",
    "# Build vocabulary from the training set.\n",
    "vocab = get_vocab_imdb(train_data)\n",
    "\n",
    "print('Number of words in vocabulary:', len(vocab))"
   ]
  },
  {
   "cell_type": "markdown",
   "metadata": {},
   "source": [
    "### 1.4 Preprocessing\n",
    "\n",
    "Since we already have vocabulary of all words, for each data sample, we no longer need to store the reviews as sequence of words. Instead, we will store the sequence of word indices to the vocabulary.\n",
    "\n",
    "Because each review is of different length, it is not possible to combine several of them in a *mini-batch* tensor. So, we will fix the length of each to 500, by truncating longer reviews and adding *&lt;unk&gt;* tokens to shorter reviews."
   ]
  },
  {
   "cell_type": "code",
   "execution_count": 34,
   "metadata": {},
   "outputs": [],
   "source": [
    "# Maximum review length:\n",
    "max_review_length = 500\n",
    "\n",
    "\n",
    "def truncate_or_pad(x):\n",
    "    # Note that index [0] is for <unk> token.\n",
    "    len_x = len(x)\n",
    "    return x[:max_review_length] if len_x > max_review_length else x + [0] * (max_review_length - len_x)\n",
    "\n",
    "\n",
    "def preprocess_imdb(data, vocab):\n",
    "    # First tokenize the data sample.\n",
    "    tokenized_data = get_tokenized_imdb(data)\n",
    "    \n",
    "    # Input feature vector is not the sequence of words but instead the sequence of word indices to the vocabulary.\n",
    "    features = torch.tensor([\n",
    "        truncate_or_pad([vocab.stoi[word] for word in words])\n",
    "        for words in tokenized_data\n",
    "    ])\n",
    "    \n",
    "    labels = torch.tensor([score for _, score in data])\n",
    "    return features, labels"
   ]
  },
  {
   "cell_type": "markdown",
   "metadata": {},
   "source": [
    "### 1.5 Data Loader\n",
    "\n",
    "We will use PyTorch `DataLoader` class to create an iterable data loader, that is capable of loading random samples of data in batches.\n",
    "\n",
    "We will have three data loaders:\n",
    "\n",
    "- Training Data Loader: To load the 25K training samples.\n",
    "- Validation Data Loader: To load the half of the 25K test samples as validation set.\n",
    "- Test Data Loader: To load the other half of the 25K test samples as test set."
   ]
  },
  {
   "cell_type": "code",
   "execution_count": 35,
   "metadata": {},
   "outputs": [],
   "source": [
    "BATCH_SIZE = 64\n",
    "\n",
    "# Preprocess the training and the test datasets.\n",
    "train_set = Data.TensorDataset(*preprocess_imdb(train_data, vocab))\n",
    "# Divide test set into validation and test sets.\n",
    "half_test_size = int(len(test_data) / 2)\n",
    "validation_set = Data.TensorDataset(*preprocess_imdb(test_data[:half_test_size], vocab))\n",
    "test_set = Data.TensorDataset(*preprocess_imdb(test_data[half_test_size:], vocab))\n",
    "\n",
    "# Create the data loaders.\n",
    "train_iter = Data.DataLoader(train_set, BATCH_SIZE, shuffle=True, pin_memory=True)\n",
    "validation_iter = Data.DataLoader(validation_set, BATCH_SIZE, pin_memory=True)\n",
    "test_iter = Data.DataLoader(test_set, BATCH_SIZE, pin_memory=True)"
   ]
  },
  {
   "cell_type": "markdown",
   "metadata": {},
   "source": [
    "To check that the data loader works, let's iterate once with the training data loader and check the data size."
   ]
  },
  {
   "cell_type": "code",
   "execution_count": 36,
   "metadata": {},
   "outputs": [
    {
     "name": "stdout",
     "output_type": "stream",
     "text": [
      "X: torch.Size([64, 500]) y: torch.Size([64])\n",
      "Number of batches: 391\n"
     ]
    }
   ],
   "source": [
    "for X, y in train_iter:\n",
    "    print('X:', X.shape, 'y:', y.shape)\n",
    "    break\n",
    "    \n",
    "print('Number of batches:', len(train_iter))"
   ]
  },
  {
   "cell_type": "markdown",
   "metadata": {},
   "source": [
    "## 2. Building the Neural Network\n",
    "\n",
    "\n",
    "### 2.1 Architecture\n",
    "\n",
    "The architecture of our Neural Network is as follows:\n",
    "\n",
    "<img src=\"architecture.jpeg\" width=\"720px\">\n",
    "\n",
    "1. **Embedding**\n",
    "\n",
    "We will be using *GloVe* word embedding to convert the input words into feature vectors. Details about this approach is discussed in the accompanying slides. Below, we have just created a dummy embedding layer using PyTorch but we will see in the next section how we can initialize it with GloVe vocabulary. In our case, the size of the feature vectors will be 100.\n",
    "\n",
    "2. **LSTM Layers**\n",
    "\n",
    "We will use *Bidirectional LSTM* consisting of 2 layers and 100 hidden states.\n",
    "\n",
    "3. **Fully Connected Layer**\n",
    "\n",
    "We will then take the hidden states of both the initial and the final timesteps of the Bidirectional LSTM and connect it to a fully-connected linear network of neurons. The output of this layer will be two scalars, one representing the *negative* and the another representing the *positive* review.\n",
    "\n",
    "4. **Output and Error Function**\n",
    "\n",
    "The output layer consists of two neurons of the previous fully connected layer. The classification will be *positive* or *negative* based on whichever neuron has larger final value. To get the probability of the review to be in either of the class, we can use *softmax* function, if we want. To train the network, we will need some loss function. In our case, we will use *Cross Entropy based on Softmax Output* as the loss (error) function."
   ]
  },
  {
   "cell_type": "code",
   "execution_count": 37,
   "metadata": {},
   "outputs": [],
   "source": [
    "class BiRNN(nn.Module):\n",
    "    def __init__(self, vocab, embed_size=100, num_hiddens=100, num_layers=2):\n",
    "        super().__init__()\n",
    "        \n",
    "        # Embedding layer\n",
    "        self.embedding = nn.Embedding(len(vocab), embed_size)\n",
    "        \n",
    "        # Bidirectional LSTM layers\n",
    "        self.encoder = nn.LSTM(input_size=embed_size, hidden_size=num_hiddens, num_layers=num_layers, bidirectional=True)\n",
    "        \n",
    "        # Fully connected layer\n",
    "        self.decoder = nn.Linear(4*num_hiddens, 2)\n",
    "        \n",
    "    def forward(self, inputs):\n",
    "        # Embed words into feature vectors:\n",
    "        embeddings = self.embedding(inputs.permute(1, 0))\n",
    "        \n",
    "        # Encode reviews using Bidirectional LSTM into hidden codes.\n",
    "        # Note that we will use the hidden states of both the first and the last timestep as the hidden codes.\n",
    "        outputs, _ = self.encoder(embeddings)\n",
    "        encoding = torch.cat((outputs[0], outputs[-1]), -1)\n",
    "        \n",
    "        # Use the fully connected layer to classify the reivew based on the encoding.\n",
    "        return self.decoder(encoding)"
   ]
  },
  {
   "cell_type": "markdown",
   "metadata": {},
   "source": [
    "Let's create the actual neural network using the above architecture."
   ]
  },
  {
   "cell_type": "code",
   "execution_count": 38,
   "metadata": {},
   "outputs": [],
   "source": [
    "embed_size = 100\n",
    "num_hiddens = 100\n",
    "num_layers = 2\n",
    "\n",
    "net = BiRNN(vocab, embed_size, num_hiddens, num_layers)"
   ]
  },
  {
   "cell_type": "markdown",
   "metadata": {},
   "source": [
    "### 2.2 GloVe Word Embedding\n",
    "\n",
    "Since we will be using [GloVe](https://nlp.stanford.edu/pubs/glove.pdf) to embed our words into feature vectors, we need to initialize the embedding layer of our neural network using GloVe word vectors. To do so, we need the mapping of each word to their corresponding vectors. However, our training set is too small to generate the word vectors using GloVe. We will instead use a pre-trained GloVe vocabulary from Stanford's 6B dataset."
   ]
  },
  {
   "cell_type": "code",
   "execution_count": 39,
   "metadata": {},
   "outputs": [],
   "source": [
    "glove_vocab = Vocab.GloVe(name='6B', dim=100, cache=os.path.join(DATA_ROOT, \"glove\"))"
   ]
  },
  {
   "cell_type": "markdown",
   "metadata": {},
   "source": [
    "Let's map each word in our vocabulary to the index of the above pretrained GloVe vocabulary. For words that do not exist in the pretrained set, we will map them to *&lt;unk&gt;* (index = 0) token. Then, we will initialize the embedding layer of our neural network with these GloVe word vectors."
   ]
  },
  {
   "cell_type": "code",
   "execution_count": 40,
   "metadata": {},
   "outputs": [
    {
     "name": "stdout",
     "output_type": "stream",
     "text": [
      "There are 21203 out of vocabulary words.\n"
     ]
    }
   ],
   "source": [
    "def load_pretrained_embedding(words, pretrained_vocab):\n",
    "    embed = torch.zeros(len(words), pretrained_vocab.vectors[0].shape[0])\n",
    "    \n",
    "    # Let's keep track of the number of out of vocabulary words.\n",
    "    oov_count = 0\n",
    "    \n",
    "    for i, word in enumerate(words):\n",
    "        try:\n",
    "            idx = pretrained_vocab.stoi[word]\n",
    "            embed[i, :] = pretrained_vocab.vectors[idx]\n",
    "        except KeyError:\n",
    "            oov_count+= 1\n",
    "    \n",
    "    print('There are {} out of vocabulary words.'.format(oov_count))\n",
    "    return embed\n",
    "\n",
    "\n",
    "# Initialize the weights of the embedding layer so that it can map word into corresponding GloVe word vector.\n",
    "net.embedding.weight.data.copy_(load_pretrained_embedding(vocab.itos, glove_vocab))\n",
    "# We won't be training the embedding layer.\n",
    "net.embedding.weight.required_gra = False"
   ]
  },
  {
   "cell_type": "markdown",
   "metadata": {},
   "source": [
    "# 2.3 Training\n",
    "\n",
    "Here are our training parameters:"
   ]
  },
  {
   "cell_type": "code",
   "execution_count": 41,
   "metadata": {},
   "outputs": [],
   "source": [
    "# Learning Rate:\n",
    "lr = 0.01\n",
    "\n",
    "# Number of training epochs:\n",
    "epochs = 10\n",
    "\n",
    "# Optimization algorithm:\n",
    "optimizer = torch.optim.Adam(filter(lambda p: p.requires_grad, net.parameters()), lr=lr)\n",
    "\n",
    "# Loss function:\n",
    "loss = nn.CrossEntropyLoss()"
   ]
  },
  {
   "cell_type": "markdown",
   "metadata": {},
   "source": [
    "**Accuracy** of a classification is the percentage of correctly classified samples."
   ]
  },
  {
   "cell_type": "code",
   "execution_count": 42,
   "metadata": {},
   "outputs": [],
   "source": [
    "def calc_accuracy(y_hat, y):\n",
    "    return (y_hat.argmax(dim=1) == y).sum().cpu().item()\n",
    "\n",
    "\n",
    "def eval_dataset(data_iter, net):\n",
    "    # accumulate accuracy for each sample and the number of samples.\n",
    "    acc_sum, n = 0.0, 0\n",
    "    for X, y in data_iter:\n",
    "        y_hat = net(X.to(device))\n",
    "        acc_sum += calc_accuracy(y_hat, y.to(device))\n",
    "        n += y.shape[0]\n",
    "    \n",
    "    return acc_sum / n\n",
    "        "
   ]
  },
  {
   "cell_type": "markdown",
   "metadata": {},
   "source": [
    "Training is done using **back-propagation** of the error gradient. As mentioned previously, the error here is the Cross-Entropy error based on softmax output.\n",
    "\n",
    "During training, we also want to use our validation set to evaluate the network and make sure that the network does not overfit the training set. We do so by plotting both the training and the validation error and finding the point where we get the minimum validation error (or maximum validation accuracy)."
   ]
  },
  {
   "cell_type": "code",
   "execution_count": 43,
   "metadata": {},
   "outputs": [
    {
     "name": "stdout",
     "output_type": "stream",
     "text": [
      "Epoch: 1, loss: 0.4378, training accuracy: 0.792, valid accuracy: 0.864, time: 74.2 sec\n",
      "Epoch: 2, loss: 0.0876, training accuracy: 0.941, valid accuracy: 0.845, time: 73.5 sec\n",
      "Epoch: 3, loss: 0.0227, training accuracy: 0.980, valid accuracy: 0.853, time: 72.6 sec\n",
      "Epoch: 4, loss: 0.0096, training accuracy: 0.989, valid accuracy: 0.846, time: 72.8 sec\n",
      "Epoch: 5, loss: 0.0048, training accuracy: 0.994, valid accuracy: 0.833, time: 72.3 sec\n",
      "Epoch: 6, loss: 0.0035, training accuracy: 0.994, valid accuracy: 0.818, time: 72.4 sec\n",
      "Epoch: 7, loss: 0.0039, training accuracy: 0.991, valid accuracy: 0.833, time: 73.2 sec\n",
      "Epoch: 8, loss: 0.0027, training accuracy: 0.994, valid accuracy: 0.829, time: 73.2 sec\n",
      "Epoch: 9, loss: 0.0014, training accuracy: 0.997, valid accuracy: 0.831, time: 74.2 sec\n",
      "Epoch: 10, loss: 0.0010, training accuracy: 0.997, valid accuracy: 0.830, time: 74.7 sec\n"
     ]
    }
   ],
   "source": [
    "net.to(device)\n",
    "\n",
    "# State of the network when we get the least validation error.\n",
    "best_state = {\n",
    "    'epoch': None,\n",
    "    'accuracy': None,\n",
    "    'model_state': None,\n",
    "    'optimizer_state': None,\n",
    "}\n",
    "\n",
    "# Function to record the network parameters.\n",
    "def record_best_state(epoch, new_accuracy):\n",
    "    best_accuracy = best_state['accuracy']\n",
    "    if best_accuracy is None or new_accuracy > best_accuracy:\n",
    "        best_state['epoch'] = epoch\n",
    "        best_state['accuracy'] = new_accuracy\n",
    "        best_state['model_state'] = net.state_dict()\n",
    "        best_state['optimizer_state'] = optimizer.state_dict()\n",
    "        \n",
    "        \n",
    "# Function to restore the network parameters.\n",
    "def restore_best_state():\n",
    "    net.load_state_dict(best_state['model_state'])\n",
    "    optimizer.load_state_dict(best_state['optimizer_state'])\n",
    "\n",
    "    \n",
    "# Record the training and validation accuracies for plotting.\n",
    "train_accs = []\n",
    "valid_accs = []\n",
    "\n",
    "batch_count = 0\n",
    "for epoch in range(epochs):\n",
    "    train_l_sum = 0.0\n",
    "    train_acc_sum = 0.0\n",
    "    n = 0\n",
    "    start = time.time()\n",
    "    \n",
    "    for X, y in train_iter:\n",
    "        X = X.to(device)\n",
    "        y = y.to(device)\n",
    "        y_hat = net(X)\n",
    "        l = loss(y_hat, y)\n",
    "        \n",
    "        optimizer.zero_grad()\n",
    "        l.backward()\n",
    "        optimizer.step()\n",
    "        \n",
    "        train_l_sum += l.cpu().item()\n",
    "        train_acc_sum += calc_accuracy(y_hat, y)\n",
    "        \n",
    "        n += y.shape[0]\n",
    "        batch_count += 1\n",
    "    \n",
    "    valid_acc = eval_dataset(validation_iter, net)\n",
    "    train_acc = train_acc_sum / n\n",
    "    \n",
    "    # Let's keep track of the best validation accuracy:\n",
    "    record_best_state(epoch, valid_acc)\n",
    "    \n",
    "    train_accs.append(train_acc)\n",
    "    valid_accs.append(valid_acc)\n",
    "    print(f'Epoch: {epoch + 1}, '\n",
    "          f'loss: {train_l_sum / batch_count:.4f}, '\n",
    "          f'training accuracy: {train_acc:.3f}, '\n",
    "          f'valid accuracy: {valid_acc:.3f}, '\n",
    "          f'time: {time.time() - start:.1f} sec')"
   ]
  },
  {
   "cell_type": "markdown",
   "metadata": {},
   "source": [
    "We can visualize the trend of training and validation accuracies as follows:"
   ]
  },
  {
   "cell_type": "code",
   "execution_count": 53,
   "metadata": {},
   "outputs": [
    {
     "data": {
      "image/png": "[encoded data removed]",
      "text/plain": [
       "<Figure size 432x288 with 1 Axes>"
      ]
     },
     "metadata": {
      "needs_background": "light"
     },
     "output_type": "display_data"
    }
   ],
   "source": [
    "import matplotlib.pyplot as plt\n",
    "\n",
    "xaxis = range(1, epochs+1)\n",
    "plt.xlabel('Epochs')\n",
    "plt.ylabel('Accuracy')\n",
    "plt.plot(xaxis, train_accs, label='Training Accuracy')\n",
    "plt.plot(xaxis, valid_accs, label='Validation Accuracy')\n",
    "plt.legend()\n",
    "plt.show()"
   ]
  },
  {
   "cell_type": "markdown",
   "metadata": {},
   "source": [
    "The validation accuracy is clearly not the highest at the final epoch. So, we will restore the network parameters to the epoch where we had the highest validation accuracy."
   ]
  },
  {
   "cell_type": "code",
   "execution_count": 46,
   "metadata": {},
   "outputs": [
    {
     "name": "stdout",
     "output_type": "stream",
     "text": [
      "Best epoch: 1\n",
      "Network restored.\n"
     ]
    }
   ],
   "source": [
    "print('Best epoch:', best_state['epoch'] + 1)\n",
    "restore_best_state()\n",
    "print('Network restored.')"
   ]
  },
  {
   "cell_type": "markdown",
   "metadata": {},
   "source": [
    "# 2.4 Test Results"
   ]
  },
  {
   "cell_type": "markdown",
   "metadata": {},
   "source": [
    "First, let's see how well our network does in predicting sentiment of new movie reviews. We will create a function for prediction."
   ]
  },
  {
   "cell_type": "code",
   "execution_count": 47,
   "metadata": {},
   "outputs": [],
   "source": [
    "def predict_sentiment(sentence):\n",
    "    tokens = tokenizer(sentence)\n",
    "    features = torch.tensor([vocab.stoi[word] for word in tokens], device=device)\n",
    "    label = torch.argmax(net(features.view((1, -1))), dim=1)\n",
    "    \n",
    "    return 'positive' if label.item() == 1 else 'negative'"
   ]
  },
  {
   "cell_type": "code",
   "execution_count": 48,
   "metadata": {},
   "outputs": [
    {
     "data": {
      "text/plain": [
       "'positive'"
      ]
     },
     "execution_count": 48,
     "metadata": {},
     "output_type": "execute_result"
    }
   ],
   "source": [
    "predict_sentiment('This movie is so great')"
   ]
  },
  {
   "cell_type": "code",
   "execution_count": 49,
   "metadata": {},
   "outputs": [
    {
     "data": {
      "text/plain": [
       "'negative'"
      ]
     },
     "execution_count": 49,
     "metadata": {},
     "output_type": "execute_result"
    }
   ],
   "source": [
    "predict_sentiment('I do not really like this movie')"
   ]
  },
  {
   "cell_type": "markdown",
   "metadata": {},
   "source": [
    "Looks pretty good.\n",
    "\n",
    "Let us calculate the final accuracy of the network using the test set."
   ]
  },
  {
   "cell_type": "code",
   "execution_count": 50,
   "metadata": {},
   "outputs": [
    {
     "name": "stdout",
     "output_type": "stream",
     "text": [
      "Accuracy of the network over test set: 82.42%\n"
     ]
    }
   ],
   "source": [
    "test_acc = eval_dataset(test_iter, net)\n",
    "print(f'Accuracy of the network over test set: {test_acc * 100:.2f}%')"
   ]
  },
  {
   "cell_type": "code",
   "execution_count": null,
   "metadata": {},
   "outputs": [],
   "source": []
  },
  {
   "cell_type": "code",
   "execution_count": null,
   "metadata": {},
   "outputs": [],
   "source": []
  }
 ],
 "metadata": {
  "kernelspec": {
   "display_name": "Python 3",
   "language": "python",
   "name": "python3"
  },
  "language_info": {
   "codemirror_mode": {
    "name": "ipython",
    "version": 3
   },
   "file_extension": ".py",
   "mimetype": "text/x-python",
   "name": "python",
   "nbconvert_exporter": "python",
   "pygments_lexer": "ipython3",
   "version": "3.6.8"
  }
 },
 "nbformat": 4,
 "nbformat_minor": 4
}
