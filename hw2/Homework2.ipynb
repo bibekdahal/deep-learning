{
 "cells": [
  {
   "cell_type": "code",
   "execution_count": 1,
   "metadata": {},
   "outputs": [],
   "source": [
    "# UPDATE THIS PATH WITH THE PATH FOR THE CIFAR-10 dataset files.\n",
    "\n",
    "CIFAR_10_ROOT = 'data/'"
   ]
  },
  {
   "cell_type": "markdown",
   "metadata": {},
   "source": [
    "# Classification of CIFAR-10 Dataset using Convolutional Neural Network"
   ]
  },
  {
   "cell_type": "markdown",
   "metadata": {},
   "source": [
    "Import the dependencies."
   ]
  },
  {
   "cell_type": "code",
   "execution_count": 2,
   "metadata": {},
   "outputs": [],
   "source": [
    "from os import path\n",
    "import pickle\n",
    "\n",
    "# Numpy and matplotlib.\n",
    "import numpy as np\n",
    "import matplotlib.pyplot as plt\n",
    "import torch"
   ]
  },
  {
   "cell_type": "markdown",
   "metadata": {},
   "source": [
    "Before we move on, we want to check if CUDA is available for GPU computation. If so, we always prefer to use GPU."
   ]
  },
  {
   "cell_type": "code",
   "execution_count": 3,
   "metadata": {},
   "outputs": [
    {
     "data": {
      "text/plain": [
       "device(type='cuda')"
      ]
     },
     "execution_count": 3,
     "metadata": {},
     "output_type": "execute_result"
    }
   ],
   "source": [
    "gpu_enable = torch.cuda.is_available()\n",
    "device = torch.device('cuda' if gpu_enable else 'cpu')\n",
    "device"
   ]
  },
  {
   "cell_type": "markdown",
   "metadata": {},
   "source": [
    "## Data Loader"
   ]
  },
  {
   "cell_type": "markdown",
   "metadata": {},
   "source": [
    "Our dataset is composed of images, each of size $32 \\times 32$ and composed of three channels (R, G, B). There are 5 files corresponding to different training batches, each file containing 10000 images, along with their labels. There are 10 different labels.\n",
    "\n",
    "We can represent a training batch using four dimensions: $(B, C, H, W)$ where $B$ is the batch size, $C$ is the channel, $H$ is the image row, and $W$ is the image column. If we have 10000 datapoints in a training batch, then the size of the training batch is $10000 \\times 3 \\times 32 \\times 32$.\n",
    "\n",
    "Besides the training datasets, there is also a file containing 10000 images to use for testing. However, we will choose to use 5000 of these as validation set and 5000 as test set. The validation set will be used to select the best model during training and the test set will be used to report final accuracy of the model."
   ]
  },
  {
   "cell_type": "markdown",
   "metadata": {},
   "source": [
    "We could compute the overall mean and standard deviation of the training set and use that for the normalizing all of the training, test and validation sets. However, the mean and standard deviation for the CIFAR-10 training datasets is already available from the source as follows:"
   ]
  },
  {
   "cell_type": "code",
   "execution_count": 4,
   "metadata": {},
   "outputs": [],
   "source": [
    "# One value for each channel (R, G, B).\n",
    "# The following values is computed assuming that the image intensities are in the range (0, 1).\n",
    "TRAINING_MEAN = np.array([0.4914, 0.4822, 0.4465])\n",
    "TRAINING_STD_DEV = np.array([0.2023, 0.1994, 0.2010])"
   ]
  },
  {
   "cell_type": "markdown",
   "metadata": {},
   "source": [
    "Next we will use a class to organize the data loader."
   ]
  },
  {
   "cell_type": "code",
   "execution_count": 30,
   "metadata": {},
   "outputs": [],
   "source": [
    "class CIFAR10:\n",
    "    # Let's reshape the mean and std to the same shapes and type as our training and test datasets.\n",
    "    MEAN = TRAINING_MEAN.reshape(1, 3, 1, 1).astype('float32')\n",
    "    STD_DEV = TRAINING_STD_DEV.reshape(1, 3, 1, 1).astype('float32')\n",
    "    \n",
    "    def __init__(self, root_path):\n",
    "        \"\"\"\n",
    "        root_path: Folder which contains the CIFAR-10 dataset files.\n",
    "        \"\"\"\n",
    "        self.root = root_path\n",
    "        \n",
    "    def load_single_file(self, filename):\n",
    "        \"\"\"\n",
    "        Load all 10000 images and their labels from a single file.\n",
    "        filename: File from which to load the images and their labels.\n",
    "        \n",
    "        returns: (X, Y) where X is the image dataset of size 10000x3x32x32\n",
    "                        and Y is an array of corresponding labels.\n",
    "        \"\"\"\n",
    "        \n",
    "        # Use pickle to load the dataset. The file is in the `root` folder.\n",
    "        filename = path.join(self.root, filename)\n",
    "        with open(filename, 'rb') as f:\n",
    "            datadict = pickle.load(f, encoding ='bytes')\n",
    "            \n",
    "            # X and Y\n",
    "            X = datadict[b'data']\n",
    "            Y = datadict[b'labels']\n",
    "            \n",
    "            # Reshape X to (B, C, H, W) as described above.\n",
    "            X = X.reshape(10000, 3, 32, 32).astype('float32')\n",
    "            \n",
    "            # Normalize using the training mean and stdandard deviation.\n",
    "            # Note that we need to transform the image intensities to range (0, 1)\n",
    "            # before using the above values for mean and std_dev.\n",
    "            X = (X / 255.0 - CIFAR10.MEAN) / CIFAR10.STD_DEV\n",
    "            \n",
    "            # Make sure Y is numpy array before we can use it.\n",
    "            Y = np.array(Y)\n",
    "            \n",
    "            # Let's return X and Y but as pytorch tensors.\n",
    "            return (\n",
    "                torch.as_tensor(X, device=device),\n",
    "                torch.as_tensor(Y, device=device),\n",
    "            )\n",
    "        \n",
    "    def iter_training_set(self, batch_size=100):\n",
    "        \"\"\"\n",
    "        Generator to yield a training set of given batch size.\n",
    "        Each time, each batch is generated randomly.\n",
    "\n",
    "        batch_size: Maximum size of each training batch.\n",
    "        \"\"\"\n",
    "\n",
    "        # There are 6 different files for the training sets.\n",
    "        # Load them in random order.\n",
    "        file_indices = list(range(1, 6))\n",
    "        np.random.shuffle(file_indices)\n",
    "\n",
    "        for file_index in file_indices:\n",
    "            filename = f'data_batch_{file_index}'\n",
    "\n",
    "            # Load the 10000 images and their labels.\n",
    "            X_all, Y_all = self.load_single_file(filename)\n",
    "\n",
    "            # Let's shuffle these samples as well.\n",
    "            num_samples = len(X_all)\n",
    "            all_indices = list(range(num_samples))\n",
    "            np.random.shuffle(all_indices)\n",
    "\n",
    "            # And yield each batch of given batch_size\n",
    "            for i in range(0, num_samples, batch_size):\n",
    "                # Select the batch indices:\n",
    "                indices = torch.LongTensor(\n",
    "                    all_indices[i: i + batch_size]\n",
    "                )\n",
    "                if gpu_enable:\n",
    "                    indices = indices.cuda()\n",
    "\n",
    "                yield (\n",
    "                    X_all.index_select(0, indices),\n",
    "                    Y_all.index_select(0, indices),\n",
    "                )\n",
    "\n",
    "    def load_validation_and_test_sets(self, validation_size=5000):\n",
    "        \"\"\"\n",
    "        Load the validation and test sets.\n",
    "        \"\"\"\n",
    "        X_all, Y_all = self.load_single_file('test_batch')\n",
    "        return (\n",
    "            X_all[:validation_size], Y_all[:validation_size],\n",
    "            X_all[validation_size:], Y_all[validation_size:]\n",
    "        )\n",
    "            "
   ]
  },
  {
   "cell_type": "markdown",
   "metadata": {},
   "source": [
    "## Neural Network Layers"
   ]
  },
  {
   "cell_type": "code",
   "execution_count": 64,
   "metadata": {},
   "outputs": [],
   "source": [
    "class Layer:\n",
    "    \"\"\"\n",
    "    Each layer requires at least a `forward` function and a list of parameters that need to be trained.\n",
    "    \"\"\"\n",
    "    \n",
    "    # Params that need to be trained during gradient descent.\n",
    "    params = []\n",
    "\n",
    "    def forward(self, X):\n",
    "        \"\"\"\n",
    "        Takes input X and return an output.\n",
    "        \"\"\"\n",
    "        raise NotImplemented\n",
    "        \n",
    "    def restore(self, params):\n",
    "        pass\n",
    "        "
   ]
  },
  {
   "cell_type": "markdown",
   "metadata": {},
   "source": [
    "Before we move on, here's a simple utility function to generate a tensor of random values from a uniform distribution of a given range."
   ]
  },
  {
   "cell_type": "code",
   "execution_count": 65,
   "metadata": {},
   "outputs": [],
   "source": [
    "def uniform(a, b, size, requires_grad=False):\n",
    "    # Idea is to first create an empty tensor of given size.\n",
    "    t = torch.empty(size=size, device=device)\n",
    "    # Then fill in the values from the uniform distribution.\n",
    "    t.uniform_(a, b)\n",
    "        \n",
    "    # Finally, if this tensor requires gradient, then do so.\n",
    "    return t.requires_grad_(requires_grad)"
   ]
  },
  {
   "cell_type": "markdown",
   "metadata": {},
   "source": [
    "### Linear Layer\n",
    "\n",
    "A linear layer is simply the linear calculation of the form: $Z = WX + b$, where $Z$ is the output, $W$ is the weight matrix and $b$ is the input.\n",
    "\n",
    "We will use Xavier initialization with random uniform distribution to initialize the weights and bias:\n",
    "$U [-\\sqrt{k}, \\sqrt{k}]$ where $k = \\frac{1}{n_i}$, $n_i = \\text{number of input neurons}$."
   ]
  },
  {
   "cell_type": "code",
   "execution_count": 66,
   "metadata": {},
   "outputs": [],
   "source": [
    "class LinearLayer(Layer):\n",
    "    def __init__(self, num_inputs, num_outputs):\n",
    "        \"\"\"\n",
    "        num_inputs: Number of input neurons to this layer.\n",
    "        num_outputs: Number of output neurons of this layer.\n",
    "        \"\"\"\n",
    "        \n",
    "        # Simply initialize the W and b matrices.\n",
    "        k = np.sqrt(1 / num_inputs)\n",
    "        self.w = uniform(-k, k, size=(num_inputs, num_outputs), requires_grad=True)\n",
    "        self.b = uniform(-k, k, size=(num_outputs,), requires_grad=True)\n",
    "        \n",
    "        # Parameters to be trained.\n",
    "        self.params = [self.w, self.b]\n",
    "        \n",
    "    def forward(self, x):\n",
    "        # In forward, simply calculate WX + b\n",
    "        return torch.matmul(x, self.w) + self.b\n",
    "    \n",
    "    def restore(self, params):\n",
    "        self.w, self.b = params\n",
    "        self.params = params"
   ]
  },
  {
   "cell_type": "markdown",
   "metadata": {},
   "source": [
    "### Convolutional Layer\n",
    "\n",
    "This is similar to Linear Layer, except that instead of calculating $WX$ we calculate $W * X$ where $*$ stands for convolution and $W$ is a rectangular kernel.\n",
    "\n",
    "Unlike the Linear Layer, the convolutional layer cana actually accept inputs of multiple channels and generate outputs of multiple channels. The number of output channels is equal to the number of filters used in this layer."
   ]
  },
  {
   "cell_type": "code",
   "execution_count": 67,
   "metadata": {},
   "outputs": [],
   "source": [
    "class ConvLayer(Layer):\n",
    "    def __init__(self, filter_size, in_channels, out_channels, stride=1, padding=0):\n",
    "        \"\"\"\n",
    "        filter_size: Size of the kernel. We assume the kernel is square.\n",
    "        in_channels: Number of input channels.\n",
    "        out_channels: Number of output channels, corresponding to the number of filters to use.\n",
    "        stride, padding: Stride and padding to use with the convolutional operator.\n",
    "        \"\"\"\n",
    "        \n",
    "        # Intialize these similar to the linear layer.\n",
    "        k = np.sqrt(1 / (in_channels * filter_size * filter_size))\n",
    "        self.w = uniform(-k, k, size=(out_channels, in_channels, filter_size, filter_size), requires_grad=True)\n",
    "        self.b = uniform(-k, k, size=(out_channels,), requires_grad=True)\n",
    "        \n",
    "        self.stride = stride\n",
    "        self.padding = padding\n",
    "        \n",
    "        # Parameters to be trained.\n",
    "        self.params = [self.w, self.b]\n",
    "        \n",
    "    def forward(self, x):\n",
    "        # We use the convolution function from pytorch to calculate convolution.\n",
    "        return torch.nn.functional.conv2d(x, self.w, bias=self.b,\n",
    "                                         stride=self.stride,\n",
    "                                         padding=self.padding)\n",
    "    \n",
    "    def restore(self, params):\n",
    "        self.w, self.b = params\n",
    "        self.params = params"
   ]
  },
  {
   "cell_type": "markdown",
   "metadata": {},
   "source": [
    "### Pooling Layer\n",
    "\n",
    "Max pooling is a simple operation that reduces the size of the input images. We can do it manually by scanning the image or we can simply use the pytorch function to do so."
   ]
  },
  {
   "cell_type": "code",
   "execution_count": 68,
   "metadata": {},
   "outputs": [],
   "source": [
    "class MaxPool(Layer):\n",
    "    def __init__(self, size, stride=2):\n",
    "        self.size = size\n",
    "        self.stride = stride\n",
    "        \n",
    "    def forward(self, x):\n",
    "        return torch.nn.functional.max_pool2d(x, self.size, self.stride)\n",
    "\n",
    "# Following is how we can implement the max_pool ourselves. This is slower than pytorch implementation though.\n",
    "#         x = x\\\n",
    "#             .unfold(2, self.size, self.stride)\\\n",
    "#             .unfold(3, self.size, self.stride)\n",
    "#         return torch.max(torch.max(x, -1)[0], -1)[0]"
   ]
  },
  {
   "cell_type": "markdown",
   "metadata": {},
   "source": [
    "### Activation Layer\n",
    "\n",
    "We can use Relu or Sigmoid for activations, which are implemented pretty simply as follows."
   ]
  },
  {
   "cell_type": "code",
   "execution_count": 69,
   "metadata": {},
   "outputs": [],
   "source": [
    "class Relu(Layer):\n",
    "    def forward(self, x):\n",
    "        return torch.nn.functional.relu(x)\n",
    "        # return torch.max(input=x, other=torch.tensor(0.0, device=device))"
   ]
  },
  {
   "cell_type": "code",
   "execution_count": 70,
   "metadata": {},
   "outputs": [],
   "source": [
    "class Sigmoid(Layer):\n",
    "    def forward(self, x):\n",
    "        return 1 / (1 + torch.exp(-x))"
   ]
  },
  {
   "cell_type": "markdown",
   "metadata": {},
   "source": [
    "### Flattening Layer\n",
    "\n",
    "We use this layer to convert the outputs of convolutional and max-pooling layers into a long flattened arrays that we can use with the linear layers."
   ]
  },
  {
   "cell_type": "code",
   "execution_count": 71,
   "metadata": {},
   "outputs": [],
   "source": [
    "class Flatten(Layer):\n",
    "    def forward(self, x):\n",
    "        # Flattening is pretty straightforward using pytorch's view function.\n",
    "        return x.view((x.shape[0], -1))"
   ]
  },
  {
   "cell_type": "markdown",
   "metadata": {},
   "source": [
    "## Neural Network Architecture"
   ]
  },
  {
   "cell_type": "markdown",
   "metadata": {},
   "source": [
    "Now that we have the layers as the building blocks, we can build a deep neural network architecture.\n",
    "\n",
    "For classifying the CIFAR-10 datatsets, we have decided to use an architecture based on **VGG-11**. The architecture consists of following configuration:\n",
    "\n",
    "```\n",
    "Conv(3x3, 64 filters) => ReLu => MaxPool =>\n",
    "Conv(3x3, 128 filters) => ReLu => MaxPool =>\n",
    "Conv(3x3, 256 filters) => ReLu => Conv(3x3 256 filters) => ReLu => MaxPool =>\n",
    "Conv(3x3, 512 filters) => ReLu => Conv(3x3 512 filters) => ReLu => MaxPool =>\n",
    "Conv(3x3, 512 filters) => ReLu => Conv(3x3 512 filters) => ReLu => MaxPool =>\n",
    "Flatten => Dense Linear Layer (512 inputs, 10 outputs)\n",
    "```"
   ]
  },
  {
   "cell_type": "markdown",
   "metadata": {},
   "source": [
    "Our neural network is then simply a list of these layers in sequence. We can set it up as follows."
   ]
  },
  {
   "cell_type": "code",
   "execution_count": 88,
   "metadata": {},
   "outputs": [],
   "source": [
    "layers = [\n",
    "    ConvLayer(3, 3, 64, padding=1),\n",
    "    Relu(),\n",
    "    MaxPool(2, 2),\n",
    "    \n",
    "    ConvLayer(3, 64, 128, padding=1),\n",
    "    Relu(),\n",
    "    MaxPool(2, 2),\n",
    "    \n",
    "    ConvLayer(3, 128, 256, padding=1),\n",
    "    Relu(),\n",
    "    ConvLayer(3, 256, 256, padding=1),\n",
    "    Relu(),\n",
    "    MaxPool(2, 2),\n",
    "    \n",
    "    ConvLayer(3, 256, 512, padding=1),\n",
    "    Relu(),\n",
    "    ConvLayer(3, 512, 512, padding=1),\n",
    "    Relu(),\n",
    "    MaxPool(2, 2),\n",
    "    \n",
    "    ConvLayer(3, 512, 512, padding=1),\n",
    "    Relu(),\n",
    "    ConvLayer(3, 512, 512, padding=1),\n",
    "    Relu(),\n",
    "    MaxPool(2, 2),\n",
    "    \n",
    "    Flatten(),\n",
    "    LinearLayer(512, 10)\n",
    "]"
   ]
  },
  {
   "cell_type": "code",
   "execution_count": 89,
   "metadata": {},
   "outputs": [],
   "source": [
    "def net(x):\n",
    "    \"\"\"\n",
    "    The FORWARD path for the neural network:\n",
    "    \n",
    "    x: Input to the neural network\n",
    "    \"\"\"\n",
    "    \n",
    "    # Simply, \"feed-forward\" to each layer.\n",
    "    tmp = x\n",
    "    for layer in layers:\n",
    "        tmp = layer.forward(tmp)\n",
    "    return tmp"
   ]
  },
  {
   "cell_type": "markdown",
   "metadata": {},
   "source": [
    "## Training and Validation"
   ]
  },
  {
   "cell_type": "markdown",
   "metadata": {},
   "source": [
    "To train using an optimization algorithm, we need to define the error or loss function. Since this is a multiclass classification, an appropriate loss function is **Cross Entropy**.\n",
    "\n",
    "Note that Cross Entropy is based on probability and for multiclass neural network, we can use Softmax to convert the output of the neural nework into probabilities. However, the pytorch's cross entropy loss function automatically handles this conversion for us."
   ]
  },
  {
   "cell_type": "code",
   "execution_count": 90,
   "metadata": {},
   "outputs": [],
   "source": [
    "loss = torch.nn.CrossEntropyLoss()"
   ]
  },
  {
   "cell_type": "markdown",
   "metadata": {},
   "source": [
    "**Accuracy** is defined as the percentage of correct classifications."
   ]
  },
  {
   "cell_type": "code",
   "execution_count": 91,
   "metadata": {},
   "outputs": [],
   "source": [
    "def accuracy(y, y_true):\n",
    "    \"\"\"\n",
    "    The prediction of our neural network for any image\n",
    "    is a one-hot encoded vector,\n",
    "    where the index of `1` in the vector represents the label.\n",
    "    If we have a batch of images, we have a matrix of such vectors.\n",
    "    \n",
    "    y: Matrix of predicted labels as one hot encoded vectors.\n",
    "    y_true: Array of true labels (NOT on hot encoded).\n",
    "    \"\"\"\n",
    "    \n",
    "    # Calculate the labels from one-hot encoded vectors.\n",
    "    y = y.argmax(dim=1)\n",
    "    # Check how many of them match the true labels.\n",
    "    acc = (y == y_true).float().sum().cpu()\n",
    "    \n",
    "    # Return the ratio.\n",
    "    return acc.item() / len(y_true)"
   ]
  },
  {
   "cell_type": "markdown",
   "metadata": {},
   "source": [
    "Let's set some initial variables before we start the training."
   ]
  },
  {
   "cell_type": "code",
   "execution_count": 92,
   "metadata": {},
   "outputs": [],
   "source": [
    "# Learning rate = 0.01\n",
    "lr = 0.01\n",
    "\n",
    "# Batch size = 128\n",
    "batch_size = 128\n",
    "\n",
    "# Number of traning epochs\n",
    "max_epochs = 20\n",
    "\n",
    "# The parameters of the neural network that needs to be trained.\n",
    "params = []\n",
    "for layer in layers:\n",
    "    for param in layer.params:\n",
    "        params.append(param)\n",
    "    \n",
    "    \n",
    "# The optimization function to use for training.\n",
    "optimizer = torch.optim.SGD(params, lr=lr, momentum=0.9)"
   ]
  },
  {
   "cell_type": "markdown",
   "metadata": {},
   "source": [
    "Use the data loader to load the test and validation sets."
   ]
  },
  {
   "cell_type": "code",
   "execution_count": 93,
   "metadata": {},
   "outputs": [],
   "source": [
    "data_loader = CIFAR10(CIFAR_10_ROOT)\n",
    "valid_x, valid_y, test_x, test_y = data_loader.load_validation_and_test_sets()"
   ]
  },
  {
   "cell_type": "markdown",
   "metadata": {},
   "source": [
    "Perform the actual training. "
   ]
  },
  {
   "cell_type": "code",
   "execution_count": 94,
   "metadata": {},
   "outputs": [
    {
     "name": "stdout",
     "output_type": "stream",
     "text": [
      "Epoch: 1\n",
      "Epoch: 2\n",
      "Epoch: 3\n",
      "Epoch: 4\n",
      "Epoch: 5\n",
      "Epoch: 6\n",
      "Epoch: 7\n",
      "Epoch: 8\n",
      "Epoch: 9\n",
      "Epoch: 10\n",
      "Epoch: 11\n",
      "Epoch: 12\n",
      "Epoch: 13\n",
      "Epoch: 14\n",
      "Epoch: 15\n",
      "Epoch: 16\n",
      "Epoch: 17\n",
      "Epoch: 18\n",
      "Epoch: 19\n",
      "Epoch: 20\n",
      "\n",
      "DONE\n"
     ]
    }
   ],
   "source": [
    "training_errors = []\n",
    "valid_errors = []\n",
    "param_states = []\n",
    "\n",
    "\n",
    "def record_param_state():\n",
    "    state = []\n",
    "    for layer in layers:\n",
    "        state.append([param.clone() for param in layer.params])\n",
    "    return state\n",
    "        \n",
    "def restore_param_state(state):\n",
    "    for i, layer in enumerate(layers):\n",
    "        layer.restore(state[i])\n",
    "\n",
    "        \n",
    "# For each epoch:\n",
    "for epoch in range(max_epochs):\n",
    "    \n",
    "    print(f'Epoch: {epoch + 1}')\n",
    "    \n",
    "    training_error = 0\n",
    "    training_size = 0\n",
    "    \n",
    "    # Get each bach:\n",
    "    for x, y in data_loader.iter_training_set(batch_size):\n",
    "        # Zero out the gradients.\n",
    "        optimizer.zero_grad()\n",
    "        \n",
    "        # Feed input to the neural network.\n",
    "        y_dash = net(x)\n",
    "        \n",
    "        # Calculate loss.\n",
    "        l = loss(y_dash, y)\n",
    "        \n",
    "        # Backpropagate loss.\n",
    "        l.backward()\n",
    "        \n",
    "        # Use gradient descent to update the parameters.\n",
    "        optimizer.step()\n",
    "        \n",
    "        training_error += 1 - accuracy(y_dash, y)\n",
    "        training_size += len(x)\n",
    "        \n",
    "    # Training error for the last batch in this epoch.\n",
    "    training_errors.append(training_error / training_size)\n",
    "    \n",
    "    # Validation error.\n",
    "    valid_errors.append(\n",
    "        1 - accuracy(net(valid_x), valid_y)\n",
    "    )\n",
    "    \n",
    "    param_states.append(\n",
    "        record_param_state()\n",
    "    )\n",
    "    \n",
    "print('\\nDONE')"
   ]
  },
  {
   "cell_type": "markdown",
   "metadata": {},
   "source": [
    "Plot the training and validation errors."
   ]
  },
  {
   "cell_type": "code",
   "execution_count": 95,
   "metadata": {},
   "outputs": [
    {
     "data": {
      "text/plain": [
       "[<matplotlib.lines.Line2D at 0x7f59501d5978>]"
      ]
     },
     "execution_count": 95,
     "metadata": {},
     "output_type": "execute_result"
    },
    {
     "data": {
      "image/png": "[encoded data removed]",
      "text/plain": [
       "<Figure size 432x288 with 1 Axes>"
      ]
     },
     "metadata": {
      "needs_background": "light"
     },
     "output_type": "display_data"
    }
   ],
   "source": [
    "plt.xlabel('Epochs')\n",
    "plt.ylabel('Training Error')\n",
    "plt.plot(training_errors)"
   ]
  },
  {
   "cell_type": "code",
   "execution_count": 96,
   "metadata": {},
   "outputs": [
    {
     "data": {
      "text/plain": [
       "[<matplotlib.lines.Line2D at 0x7f59502371d0>]"
      ]
     },
     "execution_count": 96,
     "metadata": {},
     "output_type": "execute_result"
    },
    {
     "data": {
      "image/png": "[encoded data removed]",
      "text/plain": [
       "<Figure size 432x288 with 1 Axes>"
      ]
     },
     "metadata": {
      "needs_background": "light"
     },
     "output_type": "display_data"
    }
   ],
   "source": [
    "plt.xlabel('Epochs')\n",
    "plt.ylabel('Validation Error')\n",
    "plt.plot(valid_errors)"
   ]
  },
  {
   "cell_type": "markdown",
   "metadata": {},
   "source": [
    "We select the final model parameters that gave the minimum validation error."
   ]
  },
  {
   "cell_type": "code",
   "execution_count": 100,
   "metadata": {},
   "outputs": [],
   "source": [
    "desired_epoch = np.argmin(valid_errors)\n",
    "desired_state = param_states[desired_epoch]\n",
    "restore_param_state(desired_state)"
   ]
  },
  {
   "cell_type": "markdown",
   "metadata": {},
   "source": [
    "# Final Accuracy\n",
    "\n",
    "Final accuracy is based on the test dataset."
   ]
  },
  {
   "cell_type": "code",
   "execution_count": 101,
   "metadata": {},
   "outputs": [
    {
     "name": "stdout",
     "output_type": "stream",
     "text": [
      "Accuracy: 79.74%\n"
     ]
    }
   ],
   "source": [
    "acc = accuracy(net(test_x), test_y) * 100\n",
    "print(f'Accuracy: {acc:.2f}%')"
   ]
  },
  {
   "cell_type": "code",
   "execution_count": null,
   "metadata": {},
   "outputs": [],
   "source": []
  }
 ],
 "metadata": {
  "kernelspec": {
   "display_name": "Python 3",
   "language": "python",
   "name": "python3"
  },
  "language_info": {
   "codemirror_mode": {
    "name": "ipython",
    "version": 3
   },
   "file_extension": ".py",
   "mimetype": "text/x-python",
   "name": "python",
   "nbconvert_exporter": "python",
   "pygments_lexer": "ipython3",
   "version": "3.6.8"
  }
 },
 "nbformat": 4,
 "nbformat_minor": 2
}
