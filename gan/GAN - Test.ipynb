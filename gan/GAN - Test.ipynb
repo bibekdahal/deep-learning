{
 "cells": [
  {
   "cell_type": "code",
   "execution_count": 2,
   "metadata": {},
   "outputs": [],
   "source": [
    "import torch\n",
    "from torch import nn, optim\n",
    "from torch.autograd.variable import Variable\n",
    "import matplotlib.pyplot as plt"
   ]
  },
  {
   "cell_type": "code",
   "execution_count": 3,
   "metadata": {},
   "outputs": [],
   "source": [
    "cuda = torch.device('cuda')"
   ]
  },
  {
   "cell_type": "code",
   "execution_count": 7,
   "metadata": {},
   "outputs": [],
   "source": [
    "import mnist\n",
    "\n",
    "train_x, train_y, test_x, test_y = mnist.load()\n",
    "train_x = torch.from_numpy(train_x / 255.0 - 0.5 * 2).float().cuda()"
   ]
  },
  {
   "cell_type": "code",
   "execution_count": 8,
   "metadata": {},
   "outputs": [],
   "source": [
    "class Discriminator(nn.Module):\n",
    "    def __init__(self, num_features):\n",
    "        super().__init__()\n",
    "        \n",
    "        self.hidden0 = nn.Sequential(\n",
    "            nn.Linear(num_features, 1024),\n",
    "            nn.LeakyReLU(0.2),\n",
    "            nn.Dropout(0.3)\n",
    "        )\n",
    "        \n",
    "        self.hidden1 = nn.Sequential(\n",
    "            nn.Linear(1024, 512),\n",
    "            nn.LeakyReLU(0.2),\n",
    "            nn.Dropout(0.3)\n",
    "        )\n",
    "        \n",
    "        self.hidden2 = nn.Sequential(\n",
    "            nn.Linear(512, 256),\n",
    "            nn.LeakyReLU(0.2),\n",
    "            nn.Dropout(0.3)\n",
    "        )\n",
    "        \n",
    "        self.out = nn.Sequential(\n",
    "            nn.Linear(256, 1),\n",
    "            nn.Sigmoid()\n",
    "        )\n",
    "        \n",
    "    def forward(self, x):\n",
    "        x = self.hidden0(x)\n",
    "        x = self.hidden1(x)\n",
    "        x = self.hidden2(x)\n",
    "        x = self.out(x)\n",
    "        return x"
   ]
  },
  {
   "cell_type": "markdown",
   "metadata": {},
   "source": [
    "----"
   ]
  },
  {
   "cell_type": "code",
   "execution_count": 13,
   "metadata": {},
   "outputs": [],
   "source": [
    "class Generator(nn.Module):\n",
    "    def __init__(self, num_noise_features, num_features):\n",
    "        super().__init__()\n",
    "        \n",
    "        self.hidden0 = nn.Sequential(\n",
    "            nn.Linear(num_noise_features, 256),\n",
    "            nn.LeakyReLU(0.2)\n",
    "        )\n",
    "        \n",
    "        self.hidden1 = nn.Sequential(\n",
    "            nn.Linear(256, 512),\n",
    "            nn.LeakyReLU(0.2)\n",
    "        )\n",
    "        \n",
    "        self.hidden2 = nn.Sequential(\n",
    "            nn.Linear(512, 1024),\n",
    "            nn.LeakyReLU(0.2)\n",
    "        )\n",
    "        \n",
    "        self.out = nn.Sequential(\n",
    "            nn.Linear(1024, num_features),\n",
    "            nn.Tanh()\n",
    "        )\n",
    "        \n",
    "    def forward(self, x):\n",
    "        x = self.hidden0(x)\n",
    "        x = self.hidden1(x)\n",
    "        x = self.hidden2(x)\n",
    "        x = self.out(x)\n",
    "        return x"
   ]
  },
  {
   "cell_type": "code",
   "execution_count": 58,
   "metadata": {},
   "outputs": [],
   "source": [
    "def noise(num_noise, num_noise_features):\n",
    "    return Variable(torch.randn(num_noise, num_noise_features, device=cuda))"
   ]
  },
  {
   "cell_type": "markdown",
   "metadata": {},
   "source": [
    "-----------"
   ]
  },
  {
   "cell_type": "code",
   "execution_count": 32,
   "metadata": {},
   "outputs": [],
   "source": [
    "discriminator = Discriminator(train_x.size(1)).cuda()\n",
    "generator = Generator(100, train_x.size(1)).cuda()"
   ]
  },
  {
   "cell_type": "code",
   "execution_count": 56,
   "metadata": {},
   "outputs": [
    {
     "name": "stdout",
     "output_type": "stream",
     "text": [
      "Epoch:  1000\r"
     ]
    }
   ],
   "source": [
    "loss = nn.BCELoss()\n",
    "d_optimizer = optim.Adam(discriminator.parameters(), lr=0.0002)\n",
    "g_optimizer = optim.Adam(generator.parameters(), lr=0.0002)\n",
    "\n",
    "batch_size = 4096\n",
    "for epoch in range(1000):\n",
    "    print('Epoch: ', epoch+1, end='\\r')\n",
    "    permutation = torch.randperm(train_x.size(0))\n",
    "    for i in range(0, train_x.size(0), batch_size):\n",
    "        indices = permutation[i:i+batch_size]\n",
    "        real_data = train_x[indices]\n",
    "        \n",
    "        n = noise(real_data.size(0), 100)\n",
    "        # Detach so that generator is not updated in this phase.\n",
    "        fake_data = generator(n).detach()\n",
    "        \n",
    "        real_target = Variable(torch.ones(real_data.size(0), 1, device=cuda))\n",
    "        fake_target = Variable(torch.zeros(real_data.size(0), 1, device=cuda))\n",
    "\n",
    "        d_optimizer.zero_grad()\n",
    "        \n",
    "        output = discriminator(real_data)\n",
    "        error_real = loss(output, real_target)\n",
    "        error_real.backward()\n",
    "        \n",
    "        output = discriminator(fake_data)\n",
    "        error_fake = loss(output, fake_target)\n",
    "        error_fake.backward()\n",
    "        \n",
    "        d_optimizer.step()\n",
    "        \n",
    "        #####\n",
    "        \n",
    "        n = noise(real_data.size(0), 100)\n",
    "        fake_data = generator(n)\n",
    "        \n",
    "        g_optimizer.zero_grad()\n",
    "        \n",
    "        output = discriminator(fake_data)\n",
    "        error_generator = loss(output, real_target)\n",
    "        error_generator.backward()\n",
    "        \n",
    "        g_optimizer.step()"
   ]
  },
  {
   "cell_type": "code",
   "execution_count": 57,
   "metadata": {},
   "outputs": [
    {
     "data": {
      "image/png": "[encoded data removed]",
      "text/plain": [
       "<Figure size 360x360 with 16 Axes>"
      ]
     },
     "metadata": {
      "needs_background": "light"
     },
     "output_type": "display_data"
    }
   ],
   "source": [
    "fig = plt.figure(figsize=(5, 5))\n",
    "for i in range(16):\n",
    "    sub = fig.add_subplot(4, 4, i + 1)\n",
    "    sub.axis('off')\n",
    "    n = noise(1, 100)\n",
    "    image = generator(n).detach().cpu().numpy().reshape(28, 28)\n",
    "    sub.imshow(image, cmap='gray')"
   ]
  },
  {
   "cell_type": "code",
   "execution_count": null,
   "metadata": {},
   "outputs": [],
   "source": []
  }
 ],
 "metadata": {
  "kernelspec": {
   "display_name": "Python 3",
   "language": "python",
   "name": "python3"
  },
  "language_info": {
   "codemirror_mode": {
    "name": "ipython",
    "version": 3
   },
   "file_extension": ".py",
   "mimetype": "text/x-python",
   "name": "python",
   "nbconvert_exporter": "python",
   "pygments_lexer": "ipython3",
   "version": "3.6.8"
  }
 },
 "nbformat": 4,
 "nbformat_minor": 4
}
