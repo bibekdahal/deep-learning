{
 "cells": [
  {
   "cell_type": "markdown",
   "metadata": {},
   "source": [
    "For creating our Neural Network class, we will use the numpy library.\n",
    "Let's also import matplotlib to plot our results."
   ]
  },
  {
   "cell_type": "code",
   "execution_count": 1,
   "metadata": {},
   "outputs": [],
   "source": [
    "import numpy as np\n",
    "import matplotlib.pyplot as plt"
   ]
  },
  {
   "cell_type": "markdown",
   "metadata": {},
   "source": [
    "## Network Layers\n",
    "\n",
    "To improve modularity, we will divide our network into sequence of **Layers**.\n",
    "Each layer will be responsible for calculating a small part of our network.\n",
    "\n",
    "A typical two-layer neural network is set-up as follows:\n",
    "\n",
    "Input -> First Linear Layer -> Activation Function -> Second Linear Layer -> Output\n",
    "\n",
    "A forward pass in such a network involves flow of the input data from the *Input* to the *Output* layers.\n",
    "\n",
    "A backward pass involves calculating the gradient of the error in the output layer, with respect to the output of the last layer and propagating that gradient through each from the *Output* to the *Input* layer.\n",
    "\n",
    "Each layer can have a number of parameters and is responsible for calculating the error-gradient with respect to those parameters during the backward pass. They can then using those gradients to adjust their parameters as part of training using gradient descent."
   ]
  },
  {
   "cell_type": "code",
   "execution_count": 16,
   "metadata": {},
   "outputs": [],
   "source": [
    "class Layer:\n",
    "    \"\"\"\n",
    "    A layer in the network can do one of the following four things:\n",
    "    \n",
    "    * forward pass: Accepts an input and generates an output.\n",
    "    * backward pass: Accepts the gradient of a variable (usually Error) with respect to the output variable\n",
    "                     and uses the chain rule to calculate the gradient with respect to the input variable\n",
    "                     for this layer.                     \n",
    "    * init_params: Initialze any parameters involved in this layer.\n",
    "    * update_params: Update any parameters involved in this layer as part of the training process,\n",
    "                     with the learning rate alpha.\n",
    "    \"\"\"\n",
    "\n",
    "    def forward(self, input_data):\n",
    "        raise NotImplementedError\n",
    "        \n",
    "    def backpropagate(self, next_gradient):\n",
    "        raise NotImplementedError\n",
    "        \n",
    "    def init_params(self):\n",
    "        pass\n",
    "        \n",
    "    def update_params(self, alpha):\n",
    "        pass"
   ]
  },
  {
   "cell_type": "markdown",
   "metadata": {},
   "source": [
    "### Linear Layer\n",
    "\n",
    "This layer represents the linear connections of the output of the previous layer to this layer.\n",
    "The connections have weights, represented by the $W$ matrix. Furthermore, a bias term $b$ is introduced. The output of this layer is then calculated as follows:\n",
    "\n",
    "$$\n",
    "Z = WX + b\n",
    "$$\n",
    "\n",
    "Following this equation, suppose we have the gradient of the error with respect to the output $Z$, represented as $\\frac{\\partial E}{\\partial Z}$, then we can calculate the gradient with respect to the input $X$ as follows:\n",
    "\n",
    "$$\n",
    "\\frac{\\partial E}{\\partial X} = \\left(W^T \\right) \\left(\\frac{\\partial E}{\\partial Z}\\right)\n",
    "$$\n",
    "\n",
    "Furthermore, to update the parameters $W$ and $b$, we can calulate the error gradient with respect to these parameters as follows:\n",
    "\n",
    "$$\n",
    "\\frac{\\partial E}{\\partial W} = \\left(\\frac{\\partial E}{\\partial Z}\\right) \\left(X^T \\right)\n",
    "\\\\\n",
    "\\frac{\\partial E}{\\partial b} = \\left(\\frac{\\partial E}{\\partial Z}\\right)\n",
    "$$"
   ]
  },
  {
   "cell_type": "code",
   "execution_count": 17,
   "metadata": {},
   "outputs": [],
   "source": [
    "class Linear(Layer):\n",
    "    \"\"\"\n",
    "    A linear layer calculates the linear equation WX + b,\n",
    "    where W is the weight matrix, b is the bias and X is the input matrix.\n",
    "    \"\"\"\n",
    "\n",
    "    def __init__(self, input_dim, output_dim):\n",
    "        \"\"\"\n",
    "        input_dim: Dimension of each input data for this layer.\n",
    "        output_dim: Dimension of each output data for this layer.\n",
    "        \"\"\"\n",
    "        self.input_dim = input_dim\n",
    "        self.output_dim = output_dim\n",
    "        \n",
    "        # This is optional, but we initialize W and b when the layer is created.\n",
    "        self.init_params()\n",
    "        \n",
    "    def forward(self, input_data):        \n",
    "        # Calculate and return WX + b\n",
    "        self.input = input_data\n",
    "        return self.w * self.input + self.b\n",
    "        \n",
    "    def backward(self, next_gradient):\n",
    "        # Besides calculating gradient with respect to the input (X),\n",
    "        # we will also record the gradient with respect to the paramters (W and b) so\n",
    "        # that we can update the parameters using these gradients.\n",
    "        \n",
    "        # Here, the output of this layer: Z = WX + B\n",
    "        # next_gradient = Grad(E, Z)\n",
    "    \n",
    "        # Grad(E, W) = Grad(E, Z) Transpose(X)\n",
    "        self.dw = next_gradient * self.input.T\n",
    "        \n",
    "        # Grad(E, b) = Grad(E, Z)\n",
    "        # but since b is a column vector and next_gradient is a matrix, we will take sum of its columns.\n",
    "        self.db = np.sum(next_gradient, axis=1)\n",
    "        \n",
    "        # Finally, Grad(E, Input=X) = Transpose(W) Grad(E, Z)\n",
    "        return self.w.T * next_gradient\n",
    "    \n",
    "    def init_params(self):\n",
    "        # Use Xavier Initialization:\n",
    "        variance = 2 / (self.output_dim + self.input_dim)\n",
    "        mean = 0\n",
    "        sigma = np.sqrt(variance)\n",
    "        \n",
    "        # Dim(W) = output_dim X input_dim\n",
    "        self.w = np.matrix(\n",
    "            np.random.normal(mean, variance,\n",
    "                             (self.output_dim, self.input_dim))\n",
    "        )\n",
    "        \n",
    "        # Dim(b) = output_dim X b\n",
    "        self.b = np.matrix(\n",
    "            np.random.normal(mean, variance,\n",
    "                             (self.output_dim, 1))\n",
    "        )\n",
    "    \n",
    "    def update_params(self, alpha):\n",
    "        # Use gradient descent to update the parameters.\n",
    "        # Theta_new = Theta_old - Learning_rate * Gradient(E, Theta)\n",
    "        self.w = self.w - alpha * self.dw\n",
    "        self.b = self.b - alpha * self.db\n",
    "        "
   ]
  },
  {
   "cell_type": "markdown",
   "metadata": {},
   "source": [
    "### Activation Layer\n",
    "\n",
    "This layer represents a simple mathematical function used to activate the neuron.\n",
    "\n",
    "For an input $Z$, it simply calculates:\n",
    "\n",
    "$$\n",
    "A = f(Z)\n",
    "$$\n",
    "\n",
    "where $f(Z)$ can be sigmoid, ReLu or any other activation function and is applied element-wise.\n",
    "\n",
    "Given the gradient of the error with respect to it's output $A$, represented as $\\frac{\\partial E}{\\partial A}$, we can calculate the gradient with respect to it's input $Z$ as follows:\n",
    "\n",
    "$$\n",
    "\\frac{\\partial E}{\\partial Z} = \\left(\\frac{\\partial E}{\\partial A}\\right) * \\left(f'(Z)\\right)\n",
    "$$\n",
    "\n",
    "where $*$ represents element-wise multiplication and $f'(Z) = \\frac{\\partial f(Z)}{\\partial Z}$."
   ]
  },
  {
   "cell_type": "code",
   "execution_count": 18,
   "metadata": {},
   "outputs": [],
   "source": [
    "class Activation(Layer):\n",
    "    \"\"\"\n",
    "    An activation layer uses a mathematical function to transform input to the output.\n",
    "    \n",
    "    Each activation layer implements the following two functions:\n",
    "    \n",
    "    * apply: Apply the function to the input data.\n",
    "    * apply_d: Apply the derivative of the function with respect to the input variable for given input data.\n",
    "    \"\"\"\n",
    "\n",
    "    def forward(self, input_data):\n",
    "        # Forward pass is simply applying the function f(Z) to the input variable Z, element-wise.\n",
    "        self.input = input_data\n",
    "        return self.apply(input_data)\n",
    "    \n",
    "    def backward(self, next_gradient):\n",
    "        # Here, the output of this layer: A = f(Z)\n",
    "        # next_gradient = Grad(E, A)\n",
    "        \n",
    "        # First calculate f'(Z)\n",
    "        f_dash = self.apply_d(self.input)\n",
    "        \n",
    "        # Finally, Grad(E, Input=Z) = Grad(E, A) * f'(Z)\n",
    "        # which is element-wise multiplication.\n",
    "        return np.multiply(f_dash, next_gradient)\n",
    "    \n",
    "    def apply(self, data):\n",
    "        raise NotImplementedError\n",
    "        \n",
    "    def apply_d(self, data):\n",
    "        raise NotImplementedError"
   ]
  },
  {
   "cell_type": "markdown",
   "metadata": {},
   "source": [
    "Following are two common activation functions."
   ]
  },
  {
   "cell_type": "code",
   "execution_count": 20,
   "metadata": {},
   "outputs": [],
   "source": [
    "class Sigmoid(Activation):\n",
    "    \"\"\"\n",
    "    The Sigmoid activation function:\n",
    "    \n",
    "    f(Z) = 1 / (1 + exp(-z))\n",
    "    f'(Z) = f(Z) (1 - f(Z))\n",
    "    \"\"\"\n",
    "    def apply(self, data):\n",
    "        return 1 / (1 + np.exp(-data))\n",
    "    \n",
    "    def apply_d(self, data):\n",
    "        y = self.apply(data)\n",
    "        return np.multiply(y, 1 - y)\n",
    "    \n",
    "\n",
    "class ReLu(Activation):\n",
    "    \"\"\"\n",
    "    The ReLu activation function:\n",
    "    \n",
    "    f(Z) = 0 if Z <= 0 and Z otherwise.\n",
    "    f'(Z) = 0 if Z <=0 and 1 otherwise.\n",
    "    \"\"\"\n",
    "    def apply(self, data):\n",
    "        y = np.copy(data)\n",
    "        y[y <= 0] = 0\n",
    "        return y\n",
    "    \n",
    "    def apply_d(self, data):\n",
    "        y = np.ones(data.shape)\n",
    "        y[data <= 0] = 0\n",
    "        return y"
   ]
  },
  {
   "cell_type": "markdown",
   "metadata": {},
   "source": [
    "## Multiclass Feed-Forward Neural Network\n",
    "\n",
    "We can create any architecture of neural network using the above layers. To use a sequence of layers for multiclass classification purpose, we will setup our neural network with following features:\n",
    "\n",
    "**Softmax output**\n",
    "\n",
    "The output of the network is N-size vectors where N is the number of classes and the vector elements are unbounded numbers. Since we have multiple classes to output, we will transform these unbounded numbers to probability of being in different classes using the softmax approach. The softmax function is given as:\n",
    "    \n",
    "$$\n",
    "p(y_i) = \\frac{e^{y_i}}{\\sum_{j=1}^N{e^{y_j}}}\n",
    "$$\n",
    "    \n",
    "**Mini-batch training**\n",
    "\n",
    "To train the data, we will iterate over some given number of epochs and use gradient descent with backpropagation. However, using one input-output training pair for training pass will result in really slow convergence (and even slower computation in python). But since the training size can be very large, we might not be able to train using the whole data at once either. So as a compromise, we will separate the training data into mini-batches each of (at most) given size and train one mini-batch at a time.\n",
    "    \n",
    "**Cross-Entropy error**\n",
    "\n",
    "We want to calculate the error of our neural network as it trains to see how it is improved over the training epochs. We also want to calculate the error using some test data, to report the final accuracy of our trained network. For this purpose, since we are dealing with probabilities as output, we will use cross-entropy error. The error of classifying a test data $x$ is given as:\n",
    "    \n",
    "$$\n",
    "Error(x) = \\sum_i{-t_i log(p_i)}\n",
    "$$\n",
    "    \n",
    "where $p_i$ is the i-th output probability from the neural network (calculated using softmax) and $t_i = 1$ if $x$ belong to class $i$ and $t_i = 0$ otherwise. This error is summed over all the test data to calculate total error.\n",
    "    "
   ]
  },
  {
   "cell_type": "code",
   "execution_count": 60,
   "metadata": {},
   "outputs": [],
   "source": [
    "class Network(Layer):\n",
    "    \"\"\"\n",
    "    A simple feed-forward multi-class neural network.\n",
    "    \n",
    "    This network is capable of calculating the probability of an input data to be in one of several classes\n",
    "    using softmax function to calculate the probability.\n",
    "    \"\"\"\n",
    "\n",
    "    def __init__(self, layers, num_classes, learning_rate):\n",
    "        \"\"\"\n",
    "        layers: List of neural network layers in sequence.\n",
    "        num_classes: Number of output classes.\n",
    "        learning_rate: Learning rate to use with the gradient descent during training of the network parameters.\n",
    "        \"\"\"\n",
    "        self.layers = layers\n",
    "        self.num_classes = num_classes\n",
    "        self.learning_rate = learning_rate\n",
    "        \n",
    "    def forward(self, input_data):\n",
    "        \"\"\"\n",
    "        Forward pass an input data through each layer in the network and return the output.\n",
    "        \"\"\"\n",
    "        next_data = input_data\n",
    "        for layer in self.layers:\n",
    "            next_data = layer.forward(next_data)\n",
    "        return next_data\n",
    "    \n",
    "    def backward(self, last_gradient):\n",
    "        \"\"\"\n",
    "        Backpropagatet a gradient (usually the error gradient) with respect to the network output\n",
    "        through each layer from the last.\n",
    "        \"\"\"\n",
    "        for layer in reversed(self.layers):\n",
    "            last_gradient = layer.backward(last_gradient)\n",
    "        return last_gradient\n",
    "        \n",
    "    def init_params(self):\n",
    "        \"\"\"\n",
    "        Initialize each layer's parameters.\n",
    "        \"\"\"\n",
    "        for layer in self.layers:\n",
    "            layer.init_params()\n",
    "\n",
    "    def update_params(self, alpha):\n",
    "        \"\"\"\n",
    "        Update each layer's parameters using gradient descent with the learning rate of alpha.\n",
    "        \"\"\"\n",
    "        for layer in self.layers:\n",
    "            layer.update_params(alpha)\n",
    "            \n",
    "    def train(self, input_data, target_data, num_epochs, batch_size):\n",
    "        \"\"\"\n",
    "        Train over the given input and target matrices, taking mini-batches of given size and for given\n",
    "        number of epochs.\n",
    "        \"\"\"\n",
    "        \n",
    "        # First transform the input and output matrices to the format acceptable to out network.\n",
    "        # This means, tranposing the input document matrix to get X\n",
    "        # and one-hot encoding the output matrix to get Y.\n",
    "        X, T = self.preprocess(input_data, target_data)\n",
    "        \n",
    "        # At this point, each column of X and T represent one pair of input-output data and the whole matrices\n",
    "        # represent the complete batch.\n",
    "        \n",
    "        num_items = len(input_data)\n",
    "        \n",
    "        # We will collect the errors over each epoch and each mini batch, which is useful for plotting later.\n",
    "        errors = []\n",
    "        batch_errors = []\n",
    "        \n",
    "        for epoch in range(num_epochs):\n",
    "            # For each epoch, shuffle the training data.\n",
    "            \n",
    "            # Create a shuffled indices array.\n",
    "            indices = np.arange(num_items)\n",
    "            np.random.shuffle(indices)\n",
    "            \n",
    "            # Shuffle the data around. Note that we need to shuffle the columns.\n",
    "            # Also, we must shuffle the X and T both the same way so the corresponding pairs are always together.\n",
    "            X = X[:, indices]\n",
    "            T = T[:, indices]\n",
    "            \n",
    "            \n",
    "            # Error for this epoch.\n",
    "            epoch_error = 0\n",
    "            \n",
    "            # Take each mini-batch.\n",
    "            for i in range(0, num_items, batch_size):\n",
    "\n",
    "                # Feed the mini-batch forward.\n",
    "                y = self.forward(X[:, i:i + batch_size])\n",
    "                # Use softmax to calculate the probabilities of being in different classes.\n",
    "                p = self.softmax(y)\n",
    "                \n",
    "                # The corresponding one-hot encoded target vectors.\n",
    "                t = T[:, i:i + batch_size]\n",
    "    \n",
    "                # Calculate the error between the output and the target for this mini-batch.\n",
    "                error = self.calc_error(p, t)\n",
    "                batch_errors.append(error)\n",
    "                epoch_error += error\n",
    "                \n",
    "                # For cross-entropy error,\n",
    "                # Grad(Error, Output) = p - t\n",
    "                grad_error = (p - t)\n",
    "                \n",
    "                # Back-propagate this gradient to each layer from the last.\n",
    "                self.backward(grad_error)\n",
    "                \n",
    "                # Update the parameters of each layer using gradient descent.\n",
    "                self.update_params(self.learning_rate)\n",
    "                \n",
    "            # Calculate mean error for this epoch.\n",
    "            errors.append(epoch_error / i)\n",
    "                \n",
    "        # Return the errors.\n",
    "        return errors, batch_errors\n",
    "                \n",
    "    def test(self, input_data, target_data):\n",
    "        \"\"\"\n",
    "        Test the network using the pair of input and target matrices and calculate the errors.\n",
    "        Can be used for validation and error reporting.\n",
    "        \"\"\"\n",
    "        \n",
    "        # Transform the input and target matrices just like we do in training.\n",
    "        X, T = self.preprocess(input_data, target_data)\n",
    "        \n",
    "        # Forward pass the input through the network layers.\n",
    "        y = self.forward(X)\n",
    "        \n",
    "        # Calculate the probability of the data to be in the different classes using softmax.\n",
    "        p = self.softmax(y)\n",
    "        \n",
    "        # Calculate the error between the computed probabilites and the target vectors.\n",
    "        return self.calc_error(p, T)\n",
    "            \n",
    "    def preprocess(self, input_data, target_data):\n",
    "        \"\"\"\n",
    "        Given an input document matrix and their classes, create X and T matrices respectively in the format\n",
    "        that can be used with this neural network.\n",
    "        \n",
    "        input_data: A matrix of input data where each row is a input vector.\n",
    "        target_data: A list/array of numbers representing the class index of the corresponding input vector.\n",
    "        \"\"\"\n",
    "    \n",
    "        num_items = len(input_data)\n",
    "        \n",
    "        # Transpose the input_data to create X matrix.\n",
    "        X = np.matrix(input_data).T\n",
    "        \n",
    "        # Use one-hot encoding to transform the target_data vector into Y matrix.\n",
    "        T = np.zeros((self.num_classes, num_items))\n",
    "        T[target_data, np.arange(num_items)] = 1\n",
    "        T = np.matrix(T)\n",
    "        \n",
    "        # Return X and T.\n",
    "        return X, T\n",
    "    \n",
    "    def softmax(self, y):\n",
    "        \"\"\"\n",
    "        Use softmax function on the given matrix, over each column, to convert the values into probabilities.\n",
    "        \"\"\"\n",
    "        # The real softmax function is:\n",
    "        # exps = np.exp(y)\n",
    "        # p = exps / Sum(exps)\n",
    "        \n",
    "        # However, sometimes the values of y can be very large and applying the exponential function\n",
    "        # can result in overflow errors.\n",
    "        \n",
    "        # So, we can use a trick to get the same result, by subtracting a large value from each value in y.\n",
    "        # For our purpose, we can subtract the maximum value in each y-column and take the exp and\n",
    "        # get the same result without overflowing.\n",
    "        exps = np.exp(y - y.max(axis=0))  # Originally: exps = np.exp(y)\n",
    "        return exps / exps.sum(axis=0)\n",
    "    \n",
    "    def calc_error(self, y, t):\n",
    "        \"\"\"\n",
    "        Given an output probability matrix y and corresponding target class matrix (one-hot encoded) t,\n",
    "        calculate the error.\n",
    "        \"\"\"\n",
    "        \n",
    "        # Cross Entropy Error given by:\n",
    "        # Error = 1 / M * Sum(-t log(y))\n",
    "        j = np.sum(-np.multiply(t, np.log(y)))\n",
    "        return float(j) / t.size\n",
    "            "
   ]
  },
  {
   "cell_type": "markdown",
   "metadata": {},
   "source": [
    "## Testing\n",
    "\n",
    "Let's test the network using the MNIST dataset. First create a Two-Layer neural network using 100 neurons and sigmoid activation in the hidden layer. The input and output size for the MNIST dataset is 784 and 10 respectively."
   ]
  },
  {
   "cell_type": "code",
   "execution_count": 61,
   "metadata": {},
   "outputs": [],
   "source": [
    "network = Network([\n",
    "    Linear(784, 100),\n",
    "    Sigmoid(),\n",
    "    Linear(100, 10),\n",
    "], 10, 0.1)  # Learning rate = 0.1\n",
    "\n",
    "network.init_params()"
   ]
  },
  {
   "cell_type": "markdown",
   "metadata": {},
   "source": [
    "Import the mnist dataset and train over them. Note that normalizing the inputs to $[0, 1]$ range will help smooth out the training process because we don't want large values for sigmoid activations."
   ]
  },
  {
   "cell_type": "code",
   "execution_count": 62,
   "metadata": {},
   "outputs": [],
   "source": [
    "import mnist\n",
    "\n",
    "x_train, t_train, x_test, t_test = mnist.load()\n",
    "x_train, x_test = x_train / 255.0, x_test / 255.0\n",
    "\n",
    "errors, batch_errors = network.train(x_train, t_train, 24, 64)"
   ]
  },
  {
   "cell_type": "markdown",
   "metadata": {},
   "source": [
    "Plot the training errors, we can see how the network is converging towards the point where there's minimal error."
   ]
  },
  {
   "cell_type": "code",
   "execution_count": 63,
   "metadata": {},
   "outputs": [
    {
     "data": {
      "text/plain": [
       "[<matplotlib.lines.Line2D at 0x7f6dac0aed00>]"
      ]
     },
     "execution_count": 63,
     "metadata": {},
     "output_type": "execute_result"
    },
    {
     "data": {
      "image/png": "[encoded data removed]",
      "text/plain": [
       "<Figure size 432x288 with 1 Axes>"
      ]
     },
     "metadata": {
      "needs_background": "light"
     },
     "output_type": "display_data"
    }
   ],
   "source": [
    "plt.xlabel('Training Batch')\n",
    "plt.ylabel('Error')\n",
    "plt.plot(batch_errors)"
   ]
  },
  {
   "cell_type": "markdown",
   "metadata": {},
   "source": [
    "A cleaner plot is obtained when using mean errors over each epoch instead of each mini-batch."
   ]
  },
  {
   "cell_type": "code",
   "execution_count": 64,
   "metadata": {},
   "outputs": [
    {
     "data": {
      "text/plain": [
       "[<matplotlib.lines.Line2D at 0x7f6dacaa4760>]"
      ]
     },
     "execution_count": 64,
     "metadata": {},
     "output_type": "execute_result"
    },
    {
     "data": {
      "image/png": "[encoded data removed]",
      "text/plain": [
       "<Figure size 432x288 with 1 Axes>"
      ]
     },
     "metadata": {
      "needs_background": "light"
     },
     "output_type": "display_data"
    }
   ],
   "source": [
    "plt.xlabel('Training Epoch')\n",
    "plt.ylabel('Error')\n",
    "plt.plot(errors)"
   ]
  },
  {
   "cell_type": "markdown",
   "metadata": {},
   "source": [
    "Let's test the accuracy of our network over a test dataset."
   ]
  },
  {
   "cell_type": "code",
   "execution_count": 65,
   "metadata": {},
   "outputs": [
    {
     "name": "stdout",
     "output_type": "stream",
     "text": [
      "Accuracy: 97.43133006784201%\n"
     ]
    }
   ],
   "source": [
    "accuracy = 100 - network.test(x_test, t_test) * 100\n",
    "print(f'Accuracy: {accuracy}%')\n"
   ]
  },
  {
   "cell_type": "markdown",
   "metadata": {},
   "source": [
    "Not bad for simple feed forward network, specially since the inputs are images and we can probably do even better with a convolutional neural network."
   ]
  },
  {
   "cell_type": "code",
   "execution_count": null,
   "metadata": {},
   "outputs": [],
   "source": []
  }
 ],
 "metadata": {
  "kernelspec": {
   "display_name": "Python 3",
   "language": "python",
   "name": "python3"
  },
  "language_info": {
   "codemirror_mode": {
    "name": "ipython",
    "version": 3
   },
   "file_extension": ".py",
   "mimetype": "text/x-python",
   "name": "python",
   "nbconvert_exporter": "python",
   "pygments_lexer": "ipython3",
   "version": "3.8.1"
  }
 },
 "nbformat": 4,
 "nbformat_minor": 4
}
